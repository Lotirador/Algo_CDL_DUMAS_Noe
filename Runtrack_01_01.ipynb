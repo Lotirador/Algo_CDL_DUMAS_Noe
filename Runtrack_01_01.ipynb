{
 "cells": [
  {
   "cell_type": "markdown",
   "id": "9aa49bf7",
   "metadata": {},
   "source": [
    "Job 03"
   ]
  },
  {
   "cell_type": "code",
   "execution_count": 2,
   "id": "3b977117",
   "metadata": {},
   "outputs": [
    {
     "name": "stdout",
     "output_type": "stream",
     "text": [
      "13\n"
     ]
    }
   ],
   "source": [
    "!python C:\\Users\\noedu\\Desktop\\main.py"
   ]
  },
  {
   "cell_type": "markdown",
   "id": "144e3404",
   "metadata": {},
   "source": [
    "Job 05"
   ]
  },
  {
   "cell_type": "markdown",
   "id": "2cd68ae7",
   "metadata": {},
   "source": [
    "Job 07"
   ]
  },
  {
   "cell_type": "code",
   "execution_count": 4,
   "id": "306e55f8",
   "metadata": {},
   "outputs": [],
   "source": [
    "def Add(n1, n2):\n",
    "    return n1 + n2"
   ]
  },
  {
   "cell_type": "code",
   "execution_count": 5,
   "id": "54444a24",
   "metadata": {},
   "outputs": [
    {
     "data": {
      "text/plain": [
       "12"
      ]
     },
     "execution_count": 5,
     "metadata": {},
     "output_type": "execute_result"
    }
   ],
   "source": [
    "Add(7,5)"
   ]
  },
  {
   "cell_type": "markdown",
   "id": "479cb38b",
   "metadata": {},
   "source": [
    "Job 11"
   ]
  },
  {
   "cell_type": "code",
   "execution_count": 8,
   "id": "a8a1d1e3",
   "metadata": {},
   "outputs": [
    {
     "name": "stdout",
     "output_type": "stream",
     "text": [
      "Enter your surname: Bob\n",
      "Hello Bob\n"
     ]
    }
   ],
   "source": [
    "surname = input('Enter your surname: ')\n",
    "print(\"Hello\", surname)"
   ]
  },
  {
   "cell_type": "markdown",
   "id": "4cb3f134",
   "metadata": {},
   "source": [
    "Job 13"
   ]
  },
  {
   "cell_type": "code",
   "execution_count": 7,
   "id": "2525642e",
   "metadata": {},
   "outputs": [
    {
     "name": "stdout",
     "output_type": "stream",
     "text": [
      "Enter an integer: 7\n",
      "Enter an integer: 5\n",
      "Enter an integer: 6\n",
      "Enter an integer: 3\n",
      "Enter an integer: 4\n",
      "[3, 4, 5, 6, 7]\n"
     ]
    }
   ],
   "source": [
    "ints = [int(input('Enter an integer: ')) for _ in range(5)]\n",
    "print(sorted(ints))"
   ]
  },
  {
   "cell_type": "markdown",
   "id": "7d56e224",
   "metadata": {},
   "source": [
    "Job 17"
   ]
  },
  {
   "cell_type": "code",
   "execution_count": 54,
   "id": "262734fd",
   "metadata": {},
   "outputs": [
    {
     "name": "stdout",
     "output_type": "stream",
     "text": [
      "1 : \n",
      "2 : \n",
      "3 : Fizz\n",
      "4 : \n",
      "5 : Buzz\n",
      "6 : Fizz\n",
      "7 : \n",
      "8 : \n",
      "9 : Fizz\n",
      "10 : Buzz\n",
      "11 : \n",
      "12 : Fizz\n",
      "13 : \n",
      "14 : \n",
      "15 : FizzBuzz\n",
      "16 : \n",
      "17 : \n",
      "18 : Fizz\n",
      "19 : \n",
      "20 : Buzz\n",
      "21 : Fizz\n",
      "22 : \n",
      "23 : \n",
      "24 : Fizz\n",
      "25 : Buzz\n",
      "26 : \n",
      "27 : Fizz\n",
      "28 : \n",
      "29 : \n",
      "30 : FizzBuzz\n",
      "31 : \n",
      "32 : \n",
      "33 : Fizz\n",
      "34 : \n",
      "35 : Buzz\n",
      "36 : Fizz\n",
      "37 : \n",
      "38 : \n",
      "39 : Fizz\n",
      "40 : Buzz\n",
      "41 : \n",
      "42 : Fizz\n",
      "43 : \n",
      "44 : \n",
      "45 : FizzBuzz\n",
      "46 : \n",
      "47 : \n",
      "48 : Fizz\n",
      "49 : \n",
      "50 : Buzz\n",
      "51 : Fizz\n",
      "52 : \n",
      "53 : \n",
      "54 : Fizz\n",
      "55 : Buzz\n",
      "56 : \n",
      "57 : Fizz\n",
      "58 : \n",
      "59 : \n",
      "60 : FizzBuzz\n",
      "61 : \n",
      "62 : \n",
      "63 : Fizz\n",
      "64 : \n",
      "65 : Buzz\n",
      "66 : Fizz\n",
      "67 : \n",
      "68 : \n",
      "69 : Fizz\n",
      "70 : Buzz\n",
      "71 : \n",
      "72 : Fizz\n",
      "73 : \n",
      "74 : \n",
      "75 : FizzBuzz\n",
      "76 : \n",
      "77 : \n",
      "78 : Fizz\n",
      "79 : \n",
      "80 : Buzz\n",
      "81 : Fizz\n",
      "82 : \n",
      "83 : \n",
      "84 : Fizz\n",
      "85 : Buzz\n",
      "86 : \n",
      "87 : Fizz\n",
      "88 : \n",
      "89 : \n",
      "90 : FizzBuzz\n",
      "91 : \n",
      "92 : \n",
      "93 : Fizz\n",
      "94 : \n",
      "95 : Buzz\n",
      "96 : Fizz\n",
      "97 : \n",
      "98 : \n",
      "99 : Fizz\n",
      "100 : Buzz\n"
     ]
    }
   ],
   "source": [
    "for i in range(1,101):\n",
    "    res = ''\n",
    "    if i % 3 == 0 : res += 'Fizz'\n",
    "    if i % 5 == 0 : res += 'Buzz'\n",
    "    print(i,':', res)"
   ]
  },
  {
   "cell_type": "code",
   "execution_count": 52,
   "id": "f7bf0624",
   "metadata": {},
   "outputs": [
    {
     "name": "stdout",
     "output_type": "stream",
     "text": [
      "1: \n",
      "2: \n",
      "3: Fizz\n",
      "4: \n",
      "5: Buzz\n",
      "6: Fizz\n",
      "7: \n",
      "8: \n",
      "9: Fizz\n",
      "10: Buzz\n",
      "11: \n",
      "12: Fizz\n",
      "13: \n",
      "14: \n",
      "15: FizzBuzz\n",
      "16: \n",
      "17: \n",
      "18: Fizz\n",
      "19: \n",
      "20: Buzz\n",
      "21: Fizz\n",
      "22: \n",
      "23: \n",
      "24: Fizz\n",
      "25: Buzz\n",
      "26: \n",
      "27: Fizz\n",
      "28: \n",
      "29: \n",
      "30: FizzBuzz\n",
      "31: \n",
      "32: \n",
      "33: Fizz\n",
      "34: \n",
      "35: Buzz\n",
      "36: Fizz\n",
      "37: \n",
      "38: \n",
      "39: Fizz\n",
      "40: Buzz\n",
      "41: \n",
      "42: Fizz\n",
      "43: \n",
      "44: \n",
      "45: FizzBuzz\n",
      "46: \n",
      "47: \n",
      "48: Fizz\n",
      "49: \n",
      "50: Buzz\n",
      "51: Fizz\n",
      "52: \n",
      "53: \n",
      "54: Fizz\n",
      "55: Buzz\n",
      "56: \n",
      "57: Fizz\n",
      "58: \n",
      "59: \n",
      "60: FizzBuzz\n",
      "61: \n",
      "62: \n",
      "63: Fizz\n",
      "64: \n",
      "65: Buzz\n",
      "66: Fizz\n",
      "67: \n",
      "68: \n",
      "69: Fizz\n",
      "70: Buzz\n",
      "71: \n",
      "72: Fizz\n",
      "73: \n",
      "74: \n",
      "75: FizzBuzz\n",
      "76: \n",
      "77: \n",
      "78: Fizz\n",
      "79: \n",
      "80: Buzz\n",
      "81: Fizz\n",
      "82: \n",
      "83: \n",
      "84: Fizz\n",
      "85: Buzz\n",
      "86: \n",
      "87: Fizz\n",
      "88: \n",
      "89: \n",
      "90: FizzBuzz\n",
      "91: \n",
      "92: \n",
      "93: Fizz\n",
      "94: \n",
      "95: Buzz\n",
      "96: Fizz\n",
      "97: \n",
      "98: \n",
      "99: Fizz\n",
      "100: Buzz\n"
     ]
    }
   ],
   "source": [
    "for i in range(1,101) :\n",
    "    print(f'{i}: ', end = '')\n",
    "    if i % 3 == 0 :\n",
    "        print('Fizz', end = '')\n",
    "    if i % 5 == 0 :\n",
    "        print('Buzz', end = '')\n",
    "    print()"
   ]
  },
  {
   "cell_type": "markdown",
   "id": "42957378",
   "metadata": {},
   "source": [
    "Job 19"
   ]
  },
  {
   "cell_type": "code",
   "execution_count": 15,
   "id": "d1d356e5",
   "metadata": {},
   "outputs": [],
   "source": [
    "def draw_rectangle(a,b):\n",
    "    print('|' + '-' * (a-2) + '|')\n",
    "    for _ in range(b-2):\n",
    "        print('|' + ' ' * (a-2) + '|')\n",
    "    print('|' + '-' * (a-2) + '|')"
   ]
  },
  {
   "cell_type": "code",
   "execution_count": 16,
   "id": "238b9226",
   "metadata": {},
   "outputs": [
    {
     "name": "stdout",
     "output_type": "stream",
     "text": [
      "|--------|\n",
      "|        |\n",
      "|--------|\n"
     ]
    }
   ],
   "source": [
    "draw_rectangle(10,3)"
   ]
  },
  {
   "cell_type": "code",
   "execution_count": 17,
   "id": "535b9973",
   "metadata": {},
   "outputs": [
    {
     "name": "stdout",
     "output_type": "stream",
     "text": [
      "||\n",
      "||\n"
     ]
    }
   ],
   "source": [
    "draw_rectangle(2,2)"
   ]
  },
  {
   "cell_type": "code",
   "execution_count": 18,
   "id": "f31d7b35",
   "metadata": {},
   "outputs": [
    {
     "name": "stdout",
     "output_type": "stream",
     "text": [
      "||\n",
      "||\n"
     ]
    }
   ],
   "source": [
    "draw_rectangle(0,0)"
   ]
  },
  {
   "cell_type": "markdown",
   "id": "42978903",
   "metadata": {},
   "source": [
    "Job 23"
   ]
  },
  {
   "cell_type": "code",
   "execution_count": 56,
   "id": "2c5ef61a",
   "metadata": {},
   "outputs": [],
   "source": [
    "def triangle(h):\n",
    "    for i in range(h-1):\n",
    "        print((h-i-1)*' ' + '/' + 2*i* ' ' + '\\\\')\n",
    "    print('/' + 2*(i+1)* '_' + '\\\\')"
   ]
  },
  {
   "cell_type": "code",
   "execution_count": 32,
   "id": "cd5086a8",
   "metadata": {},
   "outputs": [
    {
     "name": "stdout",
     "output_type": "stream",
     "text": [
      "    /\\\n",
      "   /  \\\n",
      "  /    \\\n",
      " /      \\\n",
      "/________\\\n"
     ]
    }
   ],
   "source": [
    "triangle(5)"
   ]
  },
  {
   "cell_type": "code",
   "execution_count": 34,
   "id": "1845dedf",
   "metadata": {},
   "outputs": [
    {
     "name": "stdout",
     "output_type": "stream",
     "text": [
      " /\\\n",
      "/__\\\n"
     ]
    }
   ],
   "source": [
    "triangle(2)"
   ]
  },
  {
   "cell_type": "code",
   "execution_count": 33,
   "id": "2c1621f0",
   "metadata": {},
   "outputs": [
    {
     "ename": "UnboundLocalError",
     "evalue": "local variable 'i' referenced before assignment",
     "output_type": "error",
     "traceback": [
      "\u001b[1;31m---------------------------------------------------------------------------\u001b[0m",
      "\u001b[1;31mUnboundLocalError\u001b[0m                         Traceback (most recent call last)",
      "Input \u001b[1;32mIn [33]\u001b[0m, in \u001b[0;36m<cell line: 1>\u001b[1;34m()\u001b[0m\n\u001b[1;32m----> 1\u001b[0m \u001b[43mtriangle\u001b[49m\u001b[43m(\u001b[49m\u001b[38;5;241;43m1\u001b[39;49m\u001b[43m)\u001b[49m\n",
      "Input \u001b[1;32mIn [31]\u001b[0m, in \u001b[0;36mtriangle\u001b[1;34m(h)\u001b[0m\n\u001b[0;32m      2\u001b[0m \u001b[38;5;28;01mfor\u001b[39;00m i \u001b[38;5;129;01min\u001b[39;00m \u001b[38;5;28mrange\u001b[39m(h\u001b[38;5;241m-\u001b[39m\u001b[38;5;241m1\u001b[39m):\n\u001b[0;32m      3\u001b[0m     \u001b[38;5;28mprint\u001b[39m((h\u001b[38;5;241m-\u001b[39mi\u001b[38;5;241m-\u001b[39m\u001b[38;5;241m1\u001b[39m)\u001b[38;5;241m*\u001b[39m\u001b[38;5;124m'\u001b[39m\u001b[38;5;124m \u001b[39m\u001b[38;5;124m'\u001b[39m \u001b[38;5;241m+\u001b[39m \u001b[38;5;124m'\u001b[39m\u001b[38;5;124m/\u001b[39m\u001b[38;5;124m'\u001b[39m \u001b[38;5;241m+\u001b[39m \u001b[38;5;241m2\u001b[39m\u001b[38;5;241m*\u001b[39mi\u001b[38;5;241m*\u001b[39m \u001b[38;5;124m'\u001b[39m\u001b[38;5;124m \u001b[39m\u001b[38;5;124m'\u001b[39m \u001b[38;5;241m+\u001b[39m \u001b[38;5;124m'\u001b[39m\u001b[38;5;130;01m\\\\\u001b[39;00m\u001b[38;5;124m'\u001b[39m)\n\u001b[1;32m----> 4\u001b[0m \u001b[38;5;28mprint\u001b[39m(\u001b[38;5;124m'\u001b[39m\u001b[38;5;124m/\u001b[39m\u001b[38;5;124m'\u001b[39m \u001b[38;5;241m+\u001b[39m \u001b[38;5;241m2\u001b[39m\u001b[38;5;241m*\u001b[39m(\u001b[43mi\u001b[49m\u001b[38;5;241m+\u001b[39m\u001b[38;5;241m1\u001b[39m)\u001b[38;5;241m*\u001b[39m \u001b[38;5;124m'\u001b[39m\u001b[38;5;124m_\u001b[39m\u001b[38;5;124m'\u001b[39m \u001b[38;5;241m+\u001b[39m \u001b[38;5;124m'\u001b[39m\u001b[38;5;130;01m\\\\\u001b[39;00m\u001b[38;5;124m'\u001b[39m)\n",
      "\u001b[1;31mUnboundLocalError\u001b[0m: local variable 'i' referenced before assignment"
     ]
    }
   ],
   "source": [
    "triangle(1)"
   ]
  },
  {
   "cell_type": "markdown",
   "id": "839a8ecd",
   "metadata": {},
   "source": [
    "Job 29"
   ]
  },
  {
   "cell_type": "code",
   "execution_count": 48,
   "id": "9211f5e5",
   "metadata": {},
   "outputs": [],
   "source": [
    "def LS_round(notes):\n",
    "    res = []\n",
    "    for note in notes :\n",
    "        if note % 5 >= 3 : res.append(note + (5 - note % 5))\n",
    "        else : res.append(note)\n",
    "    return res"
   ]
  },
  {
   "cell_type": "code",
   "execution_count": 58,
   "id": "58747d2d",
   "metadata": {},
   "outputs": [
    {
     "data": {
      "text/plain": [
       "[0, 1, 2, 5, 5, 5, 6, 7, 10, 10]"
      ]
     },
     "execution_count": 58,
     "metadata": {},
     "output_type": "execute_result"
    }
   ],
   "source": [
    "LS_round(range(10))"
   ]
  },
  {
   "cell_type": "markdown",
   "id": "5ee9a4f5",
   "metadata": {},
   "source": [
    "Job 31"
   ]
  },
  {
   "cell_type": "code",
   "execution_count": 85,
   "id": "5d64ea47",
   "metadata": {},
   "outputs": [
    {
     "name": "stdout",
     "output_type": "stream",
     "text": [
      "Enter a single word with only simple letters in minuscule: grvdvqzé\n",
      "Enter a single word with only simple letters in minuscule: aréé\n",
      "Enter a single word with only simple letters in minuscule: fe  zefzz\n",
      "Enter a single word with only simple letters in minuscule: azertyuhgfd\n",
      "azerydfghtu\n"
     ]
    }
   ],
   "source": [
    "letters = 'abcdefghijklmnopqrstuvwxyz'\n",
    "while True :\n",
    "    word = input('Enter a single word with only simple letters in minuscule: ')\n",
    "    if all(c in letters for c in word) : break\n",
    "res = ''\n",
    "for i in range(len(w)-2, -1, -1):\n",
    "    for c in sorted(w[i+1:]):\n",
    "        if c > w[i]:\n",
    "            res =  w[:i] + c + ''.join(sorted(w[i:].replace(c,'',1)))\n",
    "            break\n",
    "    if res : break\n",
    "print(res)"
   ]
  },
  {
   "cell_type": "code",
   "execution_count": 115,
   "id": "711c56bc",
   "metadata": {},
   "outputs": [],
   "source": [
    "def next_word(w):\n",
    "    res = ''\n",
    "    for i in range(len(w)-2, -1, -1):\n",
    "        for c in sorted(w[i+1:]):\n",
    "            if c > w[i]:\n",
    "                res =  w[:i] + c + ''.join(sorted(w[i:].replace(c,'',1)))\n",
    "                break\n",
    "        if res : break\n",
    "    print(res)"
   ]
  },
  {
   "cell_type": "code",
   "execution_count": 138,
   "id": "2e6e1f9e",
   "metadata": {},
   "outputs": [
    {
     "name": "stdout",
     "output_type": "stream",
     "text": [
      "eann\n",
      "chta\n",
      "abced\n",
      "anticonstitutionnellemetn\n",
      "ctah\n"
     ]
    }
   ],
   "source": [
    "tests = [ 'anne', 'chat', 'abcde', 'anticonstitutionnellement', 'chta']\n",
    "for w in tests :\n",
    "    next_word(w)"
   ]
  },
  {
   "cell_type": "code",
   "execution_count": 134,
   "id": "aae188c3",
   "metadata": {},
   "outputs": [],
   "source": [
    "def next_word2(w):\n",
    "    res = ''\n",
    "    i = len(w)-2\n",
    "    while i >= 0 and not res :\n",
    "        j = 0\n",
    "        r = sorted(w[i+1:])\n",
    "        while j < len(r) and w[i] >= r[j] :\n",
    "            j += 1\n",
    "        if j != len(r) :\n",
    "            res = w[:i] + r[j] + ''.join(w[i:]).replace(r[j],'',1)\n",
    "        i -= 1\n",
    "    print(res if res else w)"
   ]
  },
  {
   "cell_type": "code",
   "execution_count": 137,
   "id": "2fcb99c3",
   "metadata": {},
   "outputs": [
    {
     "name": "stdout",
     "output_type": "stream",
     "text": [
      "132\n",
      "eanne\n",
      "chta\n",
      "abced\n",
      "anticonstitutionnellemetn\n",
      "ctha\n"
     ]
    }
   ],
   "source": [
    "tests = ['123', 'annee', 'chat', 'abcde', 'anticonstitutionnellement', 'chta']\n",
    "for w in tests :\n",
    "    next_word2(w)"
   ]
  }
 ],
 "metadata": {
  "kernelspec": {
   "display_name": "Python 3 (ipykernel)",
   "language": "python",
   "name": "python3"
  },
  "language_info": {
   "codemirror_mode": {
    "name": "ipython",
    "version": 3
   },
   "file_extension": ".py",
   "mimetype": "text/x-python",
   "name": "python",
   "nbconvert_exporter": "python",
   "pygments_lexer": "ipython3",
   "version": "3.9.12"
  }
 },
 "nbformat": 4,
 "nbformat_minor": 5
}
