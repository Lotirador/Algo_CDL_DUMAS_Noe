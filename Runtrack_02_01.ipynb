{
 "cells": [
  {
   "cell_type": "markdown",
   "id": "9e04caf9",
   "metadata": {},
   "source": [
    "Job 0"
   ]
  },
  {
   "cell_type": "code",
   "execution_count": 1,
   "id": "55ca1c14",
   "metadata": {},
   "outputs": [],
   "source": [
    "class Personne(object):\n",
    "    \n",
    "    def __init__(self, nom, prenom):\n",
    "        self.__nom = nom\n",
    "        self.__prenom = prenom\n",
    "    \n",
    "    def SePresenter(self):\n",
    "        print(self.__nom, self.__prenom)\n",
    "    \n",
    "    def set_nom(self, nom):\n",
    "        self.__nom = nom\n",
    "        \n",
    "    def set_prenom(self, prenom):\n",
    "        self.__prenom = prenom\n",
    "        \n",
    "    def get_nom(self):\n",
    "        return self.__nom\n",
    "    \n",
    "    def get_prenom(self):\n",
    "        return self.__prenom"
   ]
  },
  {
   "cell_type": "code",
   "execution_count": 2,
   "id": "c43d3423",
   "metadata": {},
   "outputs": [],
   "source": [
    "personne1 = Personne('Doe', 'John')"
   ]
  },
  {
   "cell_type": "code",
   "execution_count": 3,
   "id": "aa90afa7",
   "metadata": {},
   "outputs": [
    {
     "name": "stdout",
     "output_type": "stream",
     "text": [
      "Doe John\n"
     ]
    }
   ],
   "source": [
    "personne1.SePresenter()"
   ]
  },
  {
   "cell_type": "code",
   "execution_count": 4,
   "id": "3554bf7c",
   "metadata": {},
   "outputs": [
    {
     "data": {
      "text/plain": [
       "'Doe'"
      ]
     },
     "execution_count": 4,
     "metadata": {},
     "output_type": "execute_result"
    }
   ],
   "source": [
    "personne1.get_nom()"
   ]
  },
  {
   "cell_type": "code",
   "execution_count": 5,
   "id": "fceec081",
   "metadata": {},
   "outputs": [
    {
     "data": {
      "text/plain": [
       "'John'"
      ]
     },
     "execution_count": 5,
     "metadata": {},
     "output_type": "execute_result"
    }
   ],
   "source": [
    "personne1.get_prenom()"
   ]
  },
  {
   "cell_type": "code",
   "execution_count": 6,
   "id": "93304594",
   "metadata": {},
   "outputs": [],
   "source": [
    "personne1.set_nom('Dupont')"
   ]
  },
  {
   "cell_type": "code",
   "execution_count": 7,
   "id": "04f290a6",
   "metadata": {},
   "outputs": [
    {
     "name": "stdout",
     "output_type": "stream",
     "text": [
      "Dupont John\n"
     ]
    }
   ],
   "source": [
    "personne1.SePresenter()"
   ]
  },
  {
   "cell_type": "code",
   "execution_count": 8,
   "id": "bb2ed985",
   "metadata": {},
   "outputs": [],
   "source": [
    "personne1.set_prenom('Jean')"
   ]
  },
  {
   "cell_type": "code",
   "execution_count": 9,
   "id": "20abc622",
   "metadata": {},
   "outputs": [
    {
     "name": "stdout",
     "output_type": "stream",
     "text": [
      "Dupont Jean\n"
     ]
    }
   ],
   "source": [
    "personne1.SePresenter()"
   ]
  },
  {
   "cell_type": "markdown",
   "id": "8e232372",
   "metadata": {},
   "source": [
    "Job 01 -----------------------------------------------------------------"
   ]
  },
  {
   "cell_type": "code",
   "execution_count": 10,
   "id": "30b6217f",
   "metadata": {},
   "outputs": [],
   "source": [
    "class Auteur(Personne):\n",
    "    \n",
    "    def __init__(self, nom, prenom, oeuvre = []):\n",
    "        Personne.__init__(self, nom, prenom)\n",
    "        self.oeuvre = [Livre(titre) for titre in oeuvre]\n",
    "    \n",
    "    def listerOeuvre(self):\n",
    "        for livre in self.oeuvre:\n",
    "            livre.print()\n",
    "    \n",
    "    def ecrireUnLivre(self, titre):\n",
    "        self.oeuvre.append(Livre(titre))\n",
    "    \n",
    "class Livre(Auteur):\n",
    "    \n",
    "    def __init__(self, titre):\n",
    "        self.titre = titre\n",
    "        \n",
    "    def print(self):\n",
    "        print(self.titre)"
   ]
  },
  {
   "cell_type": "code",
   "execution_count": 11,
   "id": "f53e75e6",
   "metadata": {},
   "outputs": [],
   "source": [
    "aut1 = Auteur('Martin','Laure')"
   ]
  },
  {
   "cell_type": "code",
   "execution_count": 12,
   "id": "dc9fb3d3",
   "metadata": {},
   "outputs": [
    {
     "name": "stdout",
     "output_type": "stream",
     "text": [
      "Martin Laure\n"
     ]
    }
   ],
   "source": [
    "aut1.SePresenter()"
   ]
  },
  {
   "cell_type": "code",
   "execution_count": 13,
   "id": "c209dc99",
   "metadata": {},
   "outputs": [],
   "source": [
    "aut3 = Auteur('Dumas', 'Alexandre')"
   ]
  },
  {
   "cell_type": "code",
   "execution_count": 14,
   "id": "b1c3dbdb",
   "metadata": {},
   "outputs": [],
   "source": [
    "aut1.listerOeuvre()"
   ]
  },
  {
   "cell_type": "code",
   "execution_count": 15,
   "id": "7a80b08f",
   "metadata": {},
   "outputs": [],
   "source": [
    "aut1.ecrireUnLivre('Nouveau Livre')\n",
    "aut1.ecrireUnLivre('Un Autre Livre')"
   ]
  },
  {
   "cell_type": "code",
   "execution_count": 16,
   "id": "9cb5ac4e",
   "metadata": {},
   "outputs": [
    {
     "name": "stdout",
     "output_type": "stream",
     "text": [
      "Nouveau Livre\n",
      "Un Autre Livre\n"
     ]
    }
   ],
   "source": [
    "aut1.listerOeuvre()"
   ]
  },
  {
   "cell_type": "code",
   "execution_count": 17,
   "id": "d209d8b8",
   "metadata": {},
   "outputs": [],
   "source": [
    "aut3.listerOeuvre()"
   ]
  },
  {
   "cell_type": "markdown",
   "id": "f33a968c",
   "metadata": {},
   "source": [
    "Job 02.718 ------------------------------------------------"
   ]
  },
  {
   "cell_type": "code",
   "execution_count": 18,
   "id": "93735753",
   "metadata": {},
   "outputs": [],
   "source": [
    "class Client(Personne):\n",
    "    \n",
    "    def __init__(self, nom, prenom, collection = []):\n",
    "        Personne.__init__(self, nom, prenom)\n",
    "        self.collection = collection\n",
    "                \n",
    "    def inventaire(self):\n",
    "        print(self.collection)"
   ]
  },
  {
   "cell_type": "code",
   "execution_count": 19,
   "id": "b71aba68",
   "metadata": {},
   "outputs": [],
   "source": [
    "class Bibliotheque(object):\n",
    "    \n",
    "    def __init__(self, nom):\n",
    "        self.__catalogue = {}\n",
    "        \n",
    "    def acheterLivre(self, auteur, livre, quantite):\n",
    "        if livre in auteur.oeuvre :\n",
    "            self.__catalogue[livre.titre] = quantite\n",
    "    \n",
    "    def inventaire(self):\n",
    "        for livre in self.__catalogue :\n",
    "            print(livre, self.__catalogue[livre])\n",
    "            \n",
    "    def louer(self, client, titre):\n",
    "        if titre in self.__catalogue and self.__catalogue[titre] > 0 :\n",
    "            client.collection.add(titre)\n",
    "            self.__catalogue[titre] -= 1\n",
    "        else :\n",
    "            print('Livre inconnu ou épuisé.')\n",
    "            \n",
    "    def rendreLivres(self, client):\n",
    "        for titre in client.collection :\n",
    "            self.__catalogue[titre] = self.__catalogue.get(titre, 0) + 1\n",
    "        client.collection.clear()"
   ]
  },
  {
   "cell_type": "code",
   "execution_count": 20,
   "id": "c3bab1ba",
   "metadata": {},
   "outputs": [],
   "source": [
    "aut2 = Auteur('Dupont' ,'Jean', ['Mon Premier Livre', 'Mon second Livre'])"
   ]
  },
  {
   "cell_type": "code",
   "execution_count": 21,
   "id": "77b63d4e",
   "metadata": {},
   "outputs": [],
   "source": [
    "aut2.ecrireUnLivre('Encore Un Livre')"
   ]
  },
  {
   "cell_type": "code",
   "execution_count": 22,
   "id": "17384827",
   "metadata": {},
   "outputs": [],
   "source": [
    "bib1 = Bibliotheque('Bibliothèque Universitaire')"
   ]
  },
  {
   "cell_type": "code",
   "execution_count": 23,
   "id": "aaa7a1b9",
   "metadata": {},
   "outputs": [],
   "source": [
    "bib1.acheterLivre(aut1, 'Encore Un Livre', 10) #pas le bon auteur"
   ]
  },
  {
   "cell_type": "code",
   "execution_count": 24,
   "id": "5fb8c2f8",
   "metadata": {},
   "outputs": [],
   "source": [
    "bib1.inventaire()"
   ]
  },
  {
   "cell_type": "code",
   "execution_count": 25,
   "id": "5a4e94b3",
   "metadata": {},
   "outputs": [],
   "source": [
    "bib1.acheterLivre(aut2, 'Encore Un Livre', 10)"
   ]
  },
  {
   "cell_type": "code",
   "execution_count": 26,
   "id": "d0aeb5ba",
   "metadata": {},
   "outputs": [],
   "source": [
    "bib1.acheterLivre(aut1, aut1.oeuvre[0].titre, 10)"
   ]
  },
  {
   "cell_type": "code",
   "execution_count": 27,
   "id": "2a8200c0",
   "metadata": {},
   "outputs": [],
   "source": [
    "bib1.inventaire()"
   ]
  },
  {
   "cell_type": "code",
   "execution_count": 28,
   "id": "304fb965",
   "metadata": {},
   "outputs": [],
   "source": [
    "moi = Client('Dumas', 'Noé')"
   ]
  },
  {
   "cell_type": "code",
   "execution_count": 29,
   "id": "10a08f38",
   "metadata": {},
   "outputs": [
    {
     "name": "stdout",
     "output_type": "stream",
     "text": [
      "Livre inconnu ou épuisé.\n"
     ]
    }
   ],
   "source": [
    "bib1.louer(moi, 'Encore Un Livre')"
   ]
  },
  {
   "cell_type": "code",
   "execution_count": 30,
   "id": "7e7ced14",
   "metadata": {},
   "outputs": [
    {
     "name": "stdout",
     "output_type": "stream",
     "text": [
      "[]\n"
     ]
    }
   ],
   "source": [
    "moi.inventaire()"
   ]
  },
  {
   "cell_type": "code",
   "execution_count": 31,
   "id": "8ab07d15",
   "metadata": {},
   "outputs": [],
   "source": [
    "bib1.inventaire()"
   ]
  },
  {
   "cell_type": "code",
   "execution_count": 32,
   "id": "ecd992e0",
   "metadata": {},
   "outputs": [],
   "source": [
    "bib2 = Bibliotheque('Bibliothèque 2')\n",
    "bib2.inventaire()"
   ]
  },
  {
   "cell_type": "code",
   "execution_count": 33,
   "id": "aec63a19",
   "metadata": {},
   "outputs": [],
   "source": [
    "bib2.rendreLivres(moi)"
   ]
  },
  {
   "cell_type": "code",
   "execution_count": 34,
   "id": "f1140c44",
   "metadata": {},
   "outputs": [],
   "source": [
    "bib2.inventaire()"
   ]
  },
  {
   "cell_type": "code",
   "execution_count": 35,
   "id": "26644973",
   "metadata": {},
   "outputs": [],
   "source": [
    "bib1.inventaire()"
   ]
  },
  {
   "cell_type": "code",
   "execution_count": 36,
   "id": "d39ee65f",
   "metadata": {},
   "outputs": [
    {
     "name": "stdout",
     "output_type": "stream",
     "text": [
      "[]\n"
     ]
    }
   ],
   "source": [
    "moi.inventaire()"
   ]
  },
  {
   "cell_type": "code",
   "execution_count": 37,
   "id": "03269379",
   "metadata": {},
   "outputs": [],
   "source": [
    "bib3 = Bibliotheque('bib trois')"
   ]
  },
  {
   "cell_type": "code",
   "execution_count": 38,
   "id": "9d954bef",
   "metadata": {},
   "outputs": [],
   "source": [
    "bib3.inventaire()"
   ]
  },
  {
   "cell_type": "markdown",
   "id": "d61bebe7",
   "metadata": {},
   "source": [
    "Job 07.389 ----------------------------------------------------"
   ]
  },
  {
   "cell_type": "code",
   "execution_count": 39,
   "id": "43e4aac9",
   "metadata": {},
   "outputs": [],
   "source": [
    "class Board(object):\n",
    "\n",
    "    def __init__(self, i, j):\n",
    "        self.state = [['.']*j for _ in range(i)]\n",
    "        self.w = j\n",
    "        self.h = i\n",
    "        self.victory = ''\n",
    "    \n",
    "    def play(self, column, color):\n",
    "        i = 0\n",
    "        while i < len(self.state) and self.state[i][column] == '.' :\n",
    "            i += 1\n",
    "        if i != 0 :\n",
    "            self.state[i-1][column] = color\n",
    "        return i-1 # returns -1 if can't play else the row played\n",
    "        \n",
    "    def print(self):\n",
    "        for row in self.state :\n",
    "            print(' '.join(row))\n",
    "            \n",
    "    def max_suite(self, si, sj, col = None):\n",
    "        if not col :\n",
    "            col = self.state[si][sj]\n",
    "        max_suite = 0\n",
    "        for axis in (((0,1),(0,-1)),((1,0),(-1,0)),((1,1),(-1,-1)),((1,-1),(-1,1))):\n",
    "            suite = 0\n",
    "            for direction in axis:    \n",
    "                i, j = si, sj\n",
    "                di, dj = direction\n",
    "                while i+di in range(self.h) and j+dj in range(self.w) and self.state[i+di][j+dj] == col:\n",
    "                    suite += 1\n",
    "                    i += di\n",
    "                    j += dj\n",
    "            if suite > max_suite :\n",
    "                max_suite = suite\n",
    "        return max_suite + 1"
   ]
  },
  {
   "cell_type": "code",
   "execution_count": 40,
   "id": "33e5e4c8",
   "metadata": {},
   "outputs": [
    {
     "name": "stdout",
     "output_type": "stream",
     "text": [
      "Début du jeu :\n",
      "Le Joueur Jaune joue en colonne (0 à 7) : 0\n",
      ". . . . . . . .\n",
      ". . . . . . . .\n",
      ". . . . . . . .\n",
      ". . . . . . . .\n",
      ". . . . . . . .\n",
      "J . . . . . . .\n",
      "Le Joueur Rouge joue en colonne (0 à 7) : 3\n",
      ". . . . . . . .\n",
      ". . . . . . . .\n",
      ". . . . . . . .\n",
      ". . . . . . . .\n",
      ". . . . . . . .\n",
      "J . . R . . . .\n",
      "Le Joueur Jaune joue en colonne (0 à 7) : 4\n",
      ". . . . . . . .\n",
      ". . . . . . . .\n",
      ". . . . . . . .\n",
      ". . . . . . . .\n",
      ". . . . . . . .\n",
      "J . . R J . . .\n",
      "Le Joueur Rouge joue en colonne (0 à 7) : 3\n",
      ". . . . . . . .\n",
      ". . . . . . . .\n",
      ". . . . . . . .\n",
      ". . . . . . . .\n",
      ". . . R . . . .\n",
      "J . . R J . . .\n",
      "Le Joueur Jaune joue en colonne (0 à 7) : 4\n",
      ". . . . . . . .\n",
      ". . . . . . . .\n",
      ". . . . . . . .\n",
      ". . . . . . . .\n",
      ". . . R J . . .\n",
      "J . . R J . . .\n",
      "Le Joueur Rouge joue en colonne (0 à 7) : 3\n",
      ". . . . . . . .\n",
      ". . . . . . . .\n",
      ". . . . . . . .\n",
      ". . . R . . . .\n",
      ". . . R J . . .\n",
      "J . . R J . . .\n",
      "Le Joueur Jaune joue en colonne (0 à 7) : 1\n",
      ". . . . . . . .\n",
      ". . . . . . . .\n",
      ". . . . . . . .\n",
      ". . . R . . . .\n",
      ". . . R J . . .\n",
      "J J . R J . . .\n",
      "Le Joueur Rouge joue en colonne (0 à 7) : 3\n",
      ". . . . . . . .\n",
      ". . . . . . . .\n",
      ". . . R . . . .\n",
      ". . . R . . . .\n",
      ". . . R J . . .\n",
      "J J . R J . . .\n",
      "Le Joueur Rouge gagne 100 000 euros !\n"
     ]
    }
   ],
   "source": [
    "# P vs P\n",
    "joueurs = ['Joueur Jaune', 'Joueur Rouge']\n",
    "couleurs = ['J', 'R']\n",
    "print('Début du jeu :')\n",
    "tour = 0\n",
    "rangs = 6\n",
    "colonnes = 8\n",
    "jeu = Board(rangs, colonnes)\n",
    "coup = None\n",
    "gagnant = ''\n",
    "while coup != 'q' and not gagnant:\n",
    "    coup = input(f'Le {joueurs[tour % 2]} joue en colonne (0 à {colonnes - 1}) : ')\n",
    "    if coup.isdigit() :\n",
    "        coup = int(coup)\n",
    "        if coup in range(colonnes) :\n",
    "            if (rang := jeu.play(coup, couleurs[tour % 2])) != -1 :\n",
    "                if jeu.max_suite(rang, coup) >= 4 :\n",
    "                    gagnant = couleurs[tour % 2]\n",
    "                tour += 1\n",
    "                jeu.print()\n",
    "            else : print(\"Colonne pleine\")\n",
    "        else : print('Colonne invalide')\n",
    "if gagnant :\n",
    "    print(f'Le {joueurs[couleurs.index(gagnant)]} gagne 100 000 euros !')\n",
    "else :\n",
    "    print('Arrêt du jeu.')"
   ]
  },
  {
   "cell_type": "markdown",
   "id": "d445b9c3",
   "metadata": {},
   "source": [
    "Job 20.085 -------------------------------------------------------"
   ]
  },
  {
   "cell_type": "code",
   "execution_count": 41,
   "id": "b508b474",
   "metadata": {},
   "outputs": [],
   "source": [
    "class AI_One(object):\n",
    "    \n",
    "    def __init__(self):\n",
    "        self.name = 'AI_One'\n",
    "    \n",
    "    def playable_rows(self, board):\n",
    "        res = []\n",
    "        for column in range(board.w):\n",
    "            i = 0\n",
    "            while i in range(board.h) and board.state[i][column] == '.' :\n",
    "                i += 1\n",
    "            res.append(i-1)\n",
    "        return res # return the playable row indices, -1: full column\n",
    "    \n",
    "    def think(self, board, color_name):\n",
    "        token = {'rouge': 'R', 'jaune': 'J'}\n",
    "        max_suites = []\n",
    "        for sj,si in enumerate(self.playable_rows(board)):\n",
    "            max_suites.append(board.max_suite(si, sj, token[color_name]))\n",
    "        return max_suites.index(max(max_suites))"
   ]
  },
  {
   "cell_type": "code",
   "execution_count": 42,
   "id": "453fb217",
   "metadata": {},
   "outputs": [
    {
     "name": "stdout",
     "output_type": "stream",
     "text": [
      "Début du jeu :\n",
      ". . . . . . . .\n",
      ". . . . . . . .\n",
      ". . . . . . . .\n",
      ". . . . . . . .\n",
      ". . . . . . . .\n",
      "R . . . . . . .\n",
      "Joueur joue en colonne (0 à 7) : 4\n",
      ". . . . . . . .\n",
      ". . . . . . . .\n",
      ". . . . . . . .\n",
      ". . . . . . . .\n",
      ". . . . . . . .\n",
      "R . . . J . . .\n",
      ". . . . . . . .\n",
      ". . . . . . . .\n",
      ". . . . . . . .\n",
      ". . . . . . . .\n",
      "R . . . . . . .\n",
      "R . . . J . . .\n",
      "Joueur joue en colonne (0 à 7) : 3\n",
      ". . . . . . . .\n",
      ". . . . . . . .\n",
      ". . . . . . . .\n",
      ". . . . . . . .\n",
      "R . . . . . . .\n",
      "R . . J J . . .\n",
      ". . . . . . . .\n",
      ". . . . . . . .\n",
      ". . . . . . . .\n",
      "R . . . . . . .\n",
      "R . . . . . . .\n",
      "R . . J J . . .\n",
      "Joueur joue en colonne (0 à 7) : 4\n",
      ". . . . . . . .\n",
      ". . . . . . . .\n",
      ". . . . . . . .\n",
      "R . . . . . . .\n",
      "R . . . J . . .\n",
      "R . . J J . . .\n",
      ". . . . . . . .\n",
      ". . . . . . . .\n",
      "R . . . . . . .\n",
      "R . . . . . . .\n",
      "R . . . J . . .\n",
      "R . . J J . . .\n",
      "Ordinateur gagne 100 000 euros !\n"
     ]
    }
   ],
   "source": [
    "# P vs CPU\n",
    "import random\n",
    "ordinateur = AI_One()\n",
    "joueurs = ['Joueur', 'Ordinateur']\n",
    "couleurs = ['J', 'R']\n",
    "print('Début du jeu :')\n",
    "tour = random.randint(0,1)\n",
    "rangs = 6\n",
    "colonnes = 8\n",
    "jeu = Board(rangs, colonnes)\n",
    "coup = None\n",
    "gagnant = ''\n",
    "while coup != 'q' and not gagnant:\n",
    "    joueur = joueurs[tour % 2]\n",
    "    if joueur == 'Joueur':\n",
    "        coup = input(f'Joueur joue en colonne (0 à {colonnes - 1}) : ')\n",
    "    else :\n",
    "        coup = str(ordinateur.think(jeu, 'rouge'))\n",
    "    if coup.isdigit() :\n",
    "        coup = int(coup)\n",
    "        if coup in range(colonnes) :\n",
    "            if (rang := jeu.play(coup, couleurs[tour % 2])) != -1 :\n",
    "                if jeu.max_suite(rang, coup) >= 4 :\n",
    "                    gagnant = couleurs[tour % 2]\n",
    "                tour += 1\n",
    "                jeu.print()\n",
    "            else : print(\"Colonne pleine\")\n",
    "        else : print('Colonne invalide')\n",
    "if gagnant :\n",
    "    print(f'{joueurs[couleurs.index(gagnant)]} gagne 100 000 euros !')\n",
    "else :\n",
    "    print('Arrêt du jeu.')"
   ]
  },
  {
   "cell_type": "markdown",
   "id": "20b3e5cd",
   "metadata": {},
   "source": [
    "Job 20.085 ---------------------------------------------"
   ]
  },
  {
   "cell_type": "code",
   "execution_count": 43,
   "id": "d326d785",
   "metadata": {},
   "outputs": [],
   "source": [
    "class AI_Two(object):\n",
    "    \n",
    "    def __init__(self):\n",
    "        self.name = 'AI_Two'\n",
    "    \n",
    "    def playable_rows(self, board):\n",
    "        res = []\n",
    "        for column in range(board.w):\n",
    "            i = 0\n",
    "            while i in range(board.h) and board.state[i][column] == '.' :\n",
    "                i += 1\n",
    "            res.append(i-1)\n",
    "        return res # return the playable row indices, -1: full column\n",
    "    \n",
    "    def think(self, board, color_name):\n",
    "        token = {'rouge': 'R', 'jaune': 'J'}\n",
    "        max_suites = []\n",
    "        for sj,si in enumerate(self.playable_rows(board)):\n",
    "            max_suites.append(board.max_suite(si, sj, token[color_name]))\n",
    "        return max_suites.index(max(max_suites))"
   ]
  },
  {
   "cell_type": "code",
   "execution_count": 44,
   "id": "e55eeef5",
   "metadata": {},
   "outputs": [
    {
     "name": "stdout",
     "output_type": "stream",
     "text": [
      "Début du jeu :\n",
      "AI_One joue en colonne : 0\n",
      ". . . . . . . .\n",
      ". . . . . . . .\n",
      ". . . . . . . .\n",
      ". . . . . . . .\n",
      ". . . . . . . .\n",
      "J . . . . . . .\n",
      "AI_Two joue en colonne : 0\n",
      ". . . . . . . .\n",
      ". . . . . . . .\n",
      ". . . . . . . .\n",
      ". . . . . . . .\n",
      "R . . . . . . .\n",
      "J . . . . . . .\n",
      "AI_One joue en colonne : 1\n",
      ". . . . . . . .\n",
      ". . . . . . . .\n",
      ". . . . . . . .\n",
      ". . . . . . . .\n",
      "R . . . . . . .\n",
      "J J . . . . . .\n",
      "AI_Two joue en colonne : 0\n",
      ". . . . . . . .\n",
      ". . . . . . . .\n",
      ". . . . . . . .\n",
      "R . . . . . . .\n",
      "R . . . . . . .\n",
      "J J . . . . . .\n",
      "AI_One joue en colonne : 2\n",
      ". . . . . . . .\n",
      ". . . . . . . .\n",
      ". . . . . . . .\n",
      "R . . . . . . .\n",
      "R . . . . . . .\n",
      "J J J . . . . .\n",
      "AI_Two joue en colonne : 0\n",
      ". . . . . . . .\n",
      ". . . . . . . .\n",
      "R . . . . . . .\n",
      "R . . . . . . .\n",
      "R . . . . . . .\n",
      "J J J . . . . .\n",
      "AI_One joue en colonne : 3\n",
      ". . . . . . . .\n",
      ". . . . . . . .\n",
      "R . . . . . . .\n",
      "R . . . . . . .\n",
      "R . . . . . . .\n",
      "J J J J . . . .\n",
      "AI_One gagne 100 000 euros !\n"
     ]
    }
   ],
   "source": [
    "# CPU vs CPU\n",
    "import random\n",
    "AI1 = AI_One()\n",
    "AI2 = AI_Two()\n",
    "joueurs = [AI1, AI2]\n",
    "coul = ['jaune', 'rouge']\n",
    "couleurs = ['J', 'R']\n",
    "print('Début du jeu :')\n",
    "tour = random.randint(0,1)\n",
    "rangs = 6\n",
    "colonnes = 8\n",
    "jeu = Board(rangs, colonnes)\n",
    "coup = None\n",
    "gagnant = ''\n",
    "while coup != 'q' and not gagnant:\n",
    "    joueur = joueurs[tour % 2]\n",
    "    coup = str(joueur.think(jeu, coul[tour % 2]))\n",
    "    print(f'{joueur.name} joue en colonne : {coup}')\n",
    "    if coup.isdigit() :\n",
    "        coup = int(coup)\n",
    "        if coup in range(colonnes) :\n",
    "            if (rang := jeu.play(coup, couleurs[tour % 2])) != -1 :\n",
    "                if jeu.max_suite(rang, coup) >= 4 :\n",
    "                    gagnant = couleurs[tour % 2]\n",
    "                tour += 1\n",
    "                jeu.print()\n",
    "            else : print(\"Colonne pleine\")\n",
    "        else : print('Colonne invalide')\n",
    "if gagnant :\n",
    "    print(f'{joueurs[couleurs.index(gagnant)].name} gagne 100 000 euros !')\n",
    "else :\n",
    "    print('Arrêt du jeu.')"
   ]
  }
 ],
 "metadata": {
  "kernelspec": {
   "display_name": "Python 3 (ipykernel)",
   "language": "python",
   "name": "python3"
  },
  "language_info": {
   "codemirror_mode": {
    "name": "ipython",
    "version": 3
   },
   "file_extension": ".py",
   "mimetype": "text/x-python",
   "name": "python",
   "nbconvert_exporter": "python",
   "pygments_lexer": "ipython3",
   "version": "3.9.12"
  }
 },
 "nbformat": 4,
 "nbformat_minor": 5
}
